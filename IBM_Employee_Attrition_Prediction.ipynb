{
 "cells": [
  {
   "cell_type": "code",
   "execution_count": 1,
   "metadata": {
    "ExecuteTime": {
     "end_time": "2023-06-16T11:36:25.275897Z",
     "start_time": "2023-06-16T11:36:02.069721Z"
    }
   },
   "outputs": [],
   "source": [
    "import numpy as np \n",
    "import pandas as pd \n",
    "import tensorflow as tf\n",
    "import matplotlib.pyplot as plt\n",
    "%matplotlib inline\n",
    "from patsy import dmatrices\n",
    "import sklearn\n",
    "import seaborn as sns"
   ]
  },
  {
   "cell_type": "code",
   "execution_count": 2,
   "metadata": {
    "ExecuteTime": {
     "end_time": "2023-06-16T11:36:25.340476Z",
     "start_time": "2023-06-16T11:36:25.275897Z"
    }
   },
   "outputs": [],
   "source": [
    "dataframe=pd.read_csv(\"IBM Attrition Data.csv\")"
   ]
  },
  {
   "cell_type": "code",
   "execution_count": 3,
   "metadata": {
    "ExecuteTime": {
     "end_time": "2023-06-16T11:36:25.419928Z",
     "start_time": "2023-06-16T11:36:25.348483Z"
    }
   },
   "outputs": [
    {
     "data": {
      "text/html": [
       "<div>\n",
       "<style scoped>\n",
       "    .dataframe tbody tr th:only-of-type {\n",
       "        vertical-align: middle;\n",
       "    }\n",
       "\n",
       "    .dataframe tbody tr th {\n",
       "        vertical-align: top;\n",
       "    }\n",
       "\n",
       "    .dataframe thead th {\n",
       "        text-align: right;\n",
       "    }\n",
       "</style>\n",
       "<table border=\"1\" class=\"dataframe\">\n",
       "  <thead>\n",
       "    <tr style=\"text-align: right;\">\n",
       "      <th></th>\n",
       "      <th>Age</th>\n",
       "      <th>Attrition</th>\n",
       "      <th>Department</th>\n",
       "      <th>DistanceFromHome</th>\n",
       "      <th>Education</th>\n",
       "      <th>EducationField</th>\n",
       "      <th>EnvironmentSatisfaction</th>\n",
       "      <th>JobSatisfaction</th>\n",
       "      <th>MaritalStatus</th>\n",
       "      <th>MonthlyIncome</th>\n",
       "      <th>NumCompaniesWorked</th>\n",
       "      <th>WorkLifeBalance</th>\n",
       "      <th>YearsAtCompany</th>\n",
       "    </tr>\n",
       "  </thead>\n",
       "  <tbody>\n",
       "    <tr>\n",
       "      <th>0</th>\n",
       "      <td>41</td>\n",
       "      <td>Yes</td>\n",
       "      <td>Sales</td>\n",
       "      <td>1</td>\n",
       "      <td>2</td>\n",
       "      <td>Life Sciences</td>\n",
       "      <td>2</td>\n",
       "      <td>4</td>\n",
       "      <td>Single</td>\n",
       "      <td>5993</td>\n",
       "      <td>8</td>\n",
       "      <td>1</td>\n",
       "      <td>6</td>\n",
       "    </tr>\n",
       "    <tr>\n",
       "      <th>1</th>\n",
       "      <td>49</td>\n",
       "      <td>No</td>\n",
       "      <td>Research &amp; Development</td>\n",
       "      <td>8</td>\n",
       "      <td>1</td>\n",
       "      <td>Life Sciences</td>\n",
       "      <td>3</td>\n",
       "      <td>2</td>\n",
       "      <td>Married</td>\n",
       "      <td>5130</td>\n",
       "      <td>1</td>\n",
       "      <td>3</td>\n",
       "      <td>10</td>\n",
       "    </tr>\n",
       "    <tr>\n",
       "      <th>2</th>\n",
       "      <td>37</td>\n",
       "      <td>Yes</td>\n",
       "      <td>Research &amp; Development</td>\n",
       "      <td>2</td>\n",
       "      <td>2</td>\n",
       "      <td>Other</td>\n",
       "      <td>4</td>\n",
       "      <td>3</td>\n",
       "      <td>Single</td>\n",
       "      <td>2090</td>\n",
       "      <td>6</td>\n",
       "      <td>3</td>\n",
       "      <td>0</td>\n",
       "    </tr>\n",
       "    <tr>\n",
       "      <th>3</th>\n",
       "      <td>33</td>\n",
       "      <td>No</td>\n",
       "      <td>Research &amp; Development</td>\n",
       "      <td>3</td>\n",
       "      <td>4</td>\n",
       "      <td>Life Sciences</td>\n",
       "      <td>4</td>\n",
       "      <td>3</td>\n",
       "      <td>Married</td>\n",
       "      <td>2909</td>\n",
       "      <td>1</td>\n",
       "      <td>3</td>\n",
       "      <td>8</td>\n",
       "    </tr>\n",
       "    <tr>\n",
       "      <th>4</th>\n",
       "      <td>27</td>\n",
       "      <td>No</td>\n",
       "      <td>Research &amp; Development</td>\n",
       "      <td>2</td>\n",
       "      <td>1</td>\n",
       "      <td>Medical</td>\n",
       "      <td>1</td>\n",
       "      <td>2</td>\n",
       "      <td>Married</td>\n",
       "      <td>3468</td>\n",
       "      <td>9</td>\n",
       "      <td>3</td>\n",
       "      <td>2</td>\n",
       "    </tr>\n",
       "  </tbody>\n",
       "</table>\n",
       "</div>"
      ],
      "text/plain": [
       "   Age Attrition              Department  DistanceFromHome  Education  \\\n",
       "0   41       Yes                   Sales                 1          2   \n",
       "1   49        No  Research & Development                 8          1   \n",
       "2   37       Yes  Research & Development                 2          2   \n",
       "3   33        No  Research & Development                 3          4   \n",
       "4   27        No  Research & Development                 2          1   \n",
       "\n",
       "  EducationField  EnvironmentSatisfaction  JobSatisfaction MaritalStatus  \\\n",
       "0  Life Sciences                        2                4        Single   \n",
       "1  Life Sciences                        3                2       Married   \n",
       "2          Other                        4                3        Single   \n",
       "3  Life Sciences                        4                3       Married   \n",
       "4        Medical                        1                2       Married   \n",
       "\n",
       "   MonthlyIncome  NumCompaniesWorked  WorkLifeBalance  YearsAtCompany  \n",
       "0           5993                   8                1               6  \n",
       "1           5130                   1                3              10  \n",
       "2           2090                   6                3               0  \n",
       "3           2909                   1                3               8  \n",
       "4           3468                   9                3               2  "
      ]
     },
     "execution_count": 3,
     "metadata": {},
     "output_type": "execute_result"
    }
   ],
   "source": [
    "dataframe.head()"
   ]
  },
  {
   "cell_type": "code",
   "execution_count": 4,
   "metadata": {
    "ExecuteTime": {
     "end_time": "2023-06-16T11:36:25.451081Z",
     "start_time": "2023-06-16T11:36:25.419928Z"
    }
   },
   "outputs": [
    {
     "name": "stdout",
     "output_type": "stream",
     "text": [
      "['Age' 'Attrition' 'Department' 'DistanceFromHome' 'Education'\n",
      " 'EducationField' 'EnvironmentSatisfaction' 'JobSatisfaction'\n",
      " 'MaritalStatus' 'MonthlyIncome' 'NumCompaniesWorked' 'WorkLifeBalance'\n",
      " 'YearsAtCompany']\n"
     ]
    }
   ],
   "source": [
    "names = dataframe.columns.values \n",
    "print(names)"
   ]
  },
  {
   "cell_type": "code",
   "execution_count": 5,
   "metadata": {
    "ExecuteTime": {
     "end_time": "2023-06-16T11:36:26.127761Z",
     "start_time": "2023-06-16T11:36:25.451081Z"
    }
   },
   "outputs": [
    {
     "data": {
      "image/png": "[encoded data removed]",
      "text/plain": [
       "<Figure size 1000x800 with 1 Axes>"
      ]
     },
     "metadata": {},
     "output_type": "display_data"
    }
   ],
   "source": [
    "# histogram for age\n",
    "plt.figure(figsize=(10,8))\n",
    "dataframe['Age'].hist(bins=70)\n",
    "plt.title(\"Age distribution of Employees\")\n",
    "plt.xlabel(\"Age\")\n",
    "plt.ylabel(\"# of Employees\")\n",
    "plt.show()"
   ]
  },
  {
   "cell_type": "code",
   "execution_count": 6,
   "metadata": {
    "ExecuteTime": {
     "end_time": "2023-06-16T11:36:26.432769Z",
     "start_time": "2023-06-16T11:36:26.127761Z"
    }
   },
   "outputs": [
    {
     "name": "stderr",
     "output_type": "stream",
     "text": [
      "C:\\Users\\Srikanth\\AppData\\Local\\Temp\\ipykernel_9416\\519728794.py:6: MatplotlibDeprecationWarning: The 'b' parameter of grid() has been renamed 'visible' since Matplotlib 3.5; support for the old name will be dropped two minor releases later.\n",
      "  plt.grid(b=True, which='major',axis='y')\n"
     ]
    },
    {
     "data": {
      "image/png": "[encoded data removed]",
      "text/plain": [
       "<Figure size 1400x1000 with 1 Axes>"
      ]
     },
     "metadata": {},
     "output_type": "display_data"
    }
   ],
   "source": [
    "# explore data for Attrition by Age\n",
    "plt.figure(figsize=(14,10))\n",
    "plt.scatter(dataframe.Attrition,dataframe.Age, alpha=.55)\n",
    "plt.title(\"Attrition by Age \")\n",
    "plt.ylabel(\"Age\")\n",
    "plt.grid(b=True, which='major',axis='y')\n",
    "plt.show()"
   ]
  },
  {
   "cell_type": "code",
   "execution_count": 7,
   "metadata": {
    "ExecuteTime": {
     "end_time": "2023-06-16T11:36:26.642853Z",
     "start_time": "2023-06-16T11:36:26.432769Z"
    }
   },
   "outputs": [
    {
     "data": {
      "image/png": "[encoded data removed]",
      "text/plain": [
       "<Figure size 800x600 with 1 Axes>"
      ]
     },
     "metadata": {},
     "output_type": "display_data"
    }
   ],
   "source": [
    "# explore data for Left employees breakdown\n",
    "plt.figure(figsize=(8,6))\n",
    "dataframe.Attrition.value_counts().plot(kind='barh',color='blue',alpha=.65)\n",
    "plt.title(\"Attrition breakdown \")\n",
    "plt.show()"
   ]
  },
  {
   "cell_type": "code",
   "execution_count": 8,
   "metadata": {
    "ExecuteTime": {
     "end_time": "2023-06-16T11:36:26.923229Z",
     "start_time": "2023-06-16T11:36:26.642853Z"
    }
   },
   "outputs": [
    {
     "data": {
      "image/png": "[encoded data removed]",
      "text/plain": [
       "<Figure size 1000x800 with 1 Axes>"
      ]
     },
     "metadata": {},
     "output_type": "display_data"
    }
   ],
   "source": [
    "# explore data for Education Field distribution\n",
    "plt.figure(figsize=(10,8))\n",
    "dataframe.EducationField.value_counts().plot(kind='barh',color='g',alpha=.65)\n",
    "plt.title(\"Education Field Distribution\")\n",
    "plt.show()"
   ]
  },
  {
   "cell_type": "code",
   "execution_count": 9,
   "metadata": {
    "ExecuteTime": {
     "end_time": "2023-06-16T11:36:27.167243Z",
     "start_time": "2023-06-16T11:36:26.923229Z"
    }
   },
   "outputs": [
    {
     "data": {
      "image/png": "[encoded data removed]",
      "text/plain": [
       "<Figure size 800x600 with 1 Axes>"
      ]
     },
     "metadata": {},
     "output_type": "display_data"
    }
   ],
   "source": [
    "# explore data for Marital Status\n",
    "plt.figure(figsize=(8,6))\n",
    "dataframe.MaritalStatus.value_counts().plot(kind='bar',alpha=.5)\n",
    "plt.show()"
   ]
  },
  {
   "cell_type": "code",
   "execution_count": 10,
   "metadata": {
    "ExecuteTime": {
     "end_time": "2023-06-16T11:36:27.256023Z",
     "start_time": "2023-06-16T11:36:27.175230Z"
    }
   },
   "outputs": [
    {
     "data": {
      "text/html": [
       "<div>\n",
       "<style scoped>\n",
       "    .dataframe tbody tr th:only-of-type {\n",
       "        vertical-align: middle;\n",
       "    }\n",
       "\n",
       "    .dataframe tbody tr th {\n",
       "        vertical-align: top;\n",
       "    }\n",
       "\n",
       "    .dataframe thead th {\n",
       "        text-align: right;\n",
       "    }\n",
       "</style>\n",
       "<table border=\"1\" class=\"dataframe\">\n",
       "  <thead>\n",
       "    <tr style=\"text-align: right;\">\n",
       "      <th></th>\n",
       "      <th>Age</th>\n",
       "      <th>DistanceFromHome</th>\n",
       "      <th>Education</th>\n",
       "      <th>EnvironmentSatisfaction</th>\n",
       "      <th>JobSatisfaction</th>\n",
       "      <th>MonthlyIncome</th>\n",
       "      <th>NumCompaniesWorked</th>\n",
       "      <th>WorkLifeBalance</th>\n",
       "      <th>YearsAtCompany</th>\n",
       "    </tr>\n",
       "  </thead>\n",
       "  <tbody>\n",
       "    <tr>\n",
       "      <th>count</th>\n",
       "      <td>1470.000000</td>\n",
       "      <td>1470.000000</td>\n",
       "      <td>1470.000000</td>\n",
       "      <td>1470.000000</td>\n",
       "      <td>1470.000000</td>\n",
       "      <td>1470.000000</td>\n",
       "      <td>1470.000000</td>\n",
       "      <td>1470.000000</td>\n",
       "      <td>1470.000000</td>\n",
       "    </tr>\n",
       "    <tr>\n",
       "      <th>mean</th>\n",
       "      <td>36.923810</td>\n",
       "      <td>9.192517</td>\n",
       "      <td>2.912925</td>\n",
       "      <td>2.721769</td>\n",
       "      <td>2.728571</td>\n",
       "      <td>6502.931293</td>\n",
       "      <td>2.693197</td>\n",
       "      <td>2.761224</td>\n",
       "      <td>7.008163</td>\n",
       "    </tr>\n",
       "    <tr>\n",
       "      <th>std</th>\n",
       "      <td>9.135373</td>\n",
       "      <td>8.106864</td>\n",
       "      <td>1.024165</td>\n",
       "      <td>1.093082</td>\n",
       "      <td>1.102846</td>\n",
       "      <td>4707.956783</td>\n",
       "      <td>2.498009</td>\n",
       "      <td>0.706476</td>\n",
       "      <td>6.126525</td>\n",
       "    </tr>\n",
       "    <tr>\n",
       "      <th>min</th>\n",
       "      <td>18.000000</td>\n",
       "      <td>1.000000</td>\n",
       "      <td>1.000000</td>\n",
       "      <td>1.000000</td>\n",
       "      <td>1.000000</td>\n",
       "      <td>1009.000000</td>\n",
       "      <td>0.000000</td>\n",
       "      <td>1.000000</td>\n",
       "      <td>0.000000</td>\n",
       "    </tr>\n",
       "    <tr>\n",
       "      <th>25%</th>\n",
       "      <td>30.000000</td>\n",
       "      <td>2.000000</td>\n",
       "      <td>2.000000</td>\n",
       "      <td>2.000000</td>\n",
       "      <td>2.000000</td>\n",
       "      <td>2911.000000</td>\n",
       "      <td>1.000000</td>\n",
       "      <td>2.000000</td>\n",
       "      <td>3.000000</td>\n",
       "    </tr>\n",
       "    <tr>\n",
       "      <th>50%</th>\n",
       "      <td>36.000000</td>\n",
       "      <td>7.000000</td>\n",
       "      <td>3.000000</td>\n",
       "      <td>3.000000</td>\n",
       "      <td>3.000000</td>\n",
       "      <td>4919.000000</td>\n",
       "      <td>2.000000</td>\n",
       "      <td>3.000000</td>\n",
       "      <td>5.000000</td>\n",
       "    </tr>\n",
       "    <tr>\n",
       "      <th>75%</th>\n",
       "      <td>43.000000</td>\n",
       "      <td>14.000000</td>\n",
       "      <td>4.000000</td>\n",
       "      <td>4.000000</td>\n",
       "      <td>4.000000</td>\n",
       "      <td>8379.000000</td>\n",
       "      <td>4.000000</td>\n",
       "      <td>3.000000</td>\n",
       "      <td>9.000000</td>\n",
       "    </tr>\n",
       "    <tr>\n",
       "      <th>max</th>\n",
       "      <td>60.000000</td>\n",
       "      <td>29.000000</td>\n",
       "      <td>5.000000</td>\n",
       "      <td>4.000000</td>\n",
       "      <td>4.000000</td>\n",
       "      <td>19999.000000</td>\n",
       "      <td>9.000000</td>\n",
       "      <td>4.000000</td>\n",
       "      <td>40.000000</td>\n",
       "    </tr>\n",
       "  </tbody>\n",
       "</table>\n",
       "</div>"
      ],
      "text/plain": [
       "               Age  DistanceFromHome    Education  EnvironmentSatisfaction  \\\n",
       "count  1470.000000       1470.000000  1470.000000              1470.000000   \n",
       "mean     36.923810          9.192517     2.912925                 2.721769   \n",
       "std       9.135373          8.106864     1.024165                 1.093082   \n",
       "min      18.000000          1.000000     1.000000                 1.000000   \n",
       "25%      30.000000          2.000000     2.000000                 2.000000   \n",
       "50%      36.000000          7.000000     3.000000                 3.000000   \n",
       "75%      43.000000         14.000000     4.000000                 4.000000   \n",
       "max      60.000000         29.000000     5.000000                 4.000000   \n",
       "\n",
       "       JobSatisfaction  MonthlyIncome  NumCompaniesWorked  WorkLifeBalance  \\\n",
       "count      1470.000000    1470.000000         1470.000000      1470.000000   \n",
       "mean          2.728571    6502.931293            2.693197         2.761224   \n",
       "std           1.102846    4707.956783            2.498009         0.706476   \n",
       "min           1.000000    1009.000000            0.000000         1.000000   \n",
       "25%           2.000000    2911.000000            1.000000         2.000000   \n",
       "50%           3.000000    4919.000000            2.000000         3.000000   \n",
       "75%           4.000000    8379.000000            4.000000         3.000000   \n",
       "max           4.000000   19999.000000            9.000000         4.000000   \n",
       "\n",
       "       YearsAtCompany  \n",
       "count     1470.000000  \n",
       "mean         7.008163  \n",
       "std          6.126525  \n",
       "min          0.000000  \n",
       "25%          3.000000  \n",
       "50%          5.000000  \n",
       "75%          9.000000  \n",
       "max         40.000000  "
      ]
     },
     "execution_count": 10,
     "metadata": {},
     "output_type": "execute_result"
    }
   ],
   "source": [
    "dataframe.describe()"
   ]
  },
  {
   "cell_type": "code",
   "execution_count": 11,
   "metadata": {
    "ExecuteTime": {
     "end_time": "2023-06-16T11:36:27.304010Z",
     "start_time": "2023-06-16T11:36:27.256023Z"
    }
   },
   "outputs": [
    {
     "name": "stdout",
     "output_type": "stream",
     "text": [
      "<class 'pandas.core.frame.DataFrame'>\n",
      "RangeIndex: 1470 entries, 0 to 1469\n",
      "Data columns (total 13 columns):\n",
      " #   Column                   Non-Null Count  Dtype \n",
      "---  ------                   --------------  ----- \n",
      " 0   Age                      1470 non-null   int64 \n",
      " 1   Attrition                1470 non-null   object\n",
      " 2   Department               1470 non-null   object\n",
      " 3   DistanceFromHome         1470 non-null   int64 \n",
      " 4   Education                1470 non-null   int64 \n",
      " 5   EducationField           1470 non-null   object\n",
      " 6   EnvironmentSatisfaction  1470 non-null   int64 \n",
      " 7   JobSatisfaction          1470 non-null   int64 \n",
      " 8   MaritalStatus            1470 non-null   object\n",
      " 9   MonthlyIncome            1470 non-null   int64 \n",
      " 10  NumCompaniesWorked       1470 non-null   int64 \n",
      " 11  WorkLifeBalance          1470 non-null   int64 \n",
      " 12  YearsAtCompany           1470 non-null   int64 \n",
      "dtypes: int64(9), object(4)\n",
      "memory usage: 149.4+ KB\n"
     ]
    }
   ],
   "source": [
    "dataframe.info()"
   ]
  },
  {
   "cell_type": "code",
   "execution_count": 12,
   "metadata": {
    "ExecuteTime": {
     "end_time": "2023-06-16T11:36:27.320105Z",
     "start_time": "2023-06-16T11:36:27.304010Z"
    }
   },
   "outputs": [
    {
     "data": {
      "text/plain": [
       "Index(['Age', 'Attrition', 'Department', 'DistanceFromHome', 'Education',\n",
       "       'EducationField', 'EnvironmentSatisfaction', 'JobSatisfaction',\n",
       "       'MaritalStatus', 'MonthlyIncome', 'NumCompaniesWorked',\n",
       "       'WorkLifeBalance', 'YearsAtCompany'],\n",
       "      dtype='object')"
      ]
     },
     "execution_count": 12,
     "metadata": {},
     "output_type": "execute_result"
    }
   ],
   "source": [
    "dataframe.columns"
   ]
  },
  {
   "cell_type": "code",
   "execution_count": 13,
   "metadata": {
    "ExecuteTime": {
     "end_time": "2023-06-16T11:36:27.358551Z",
     "start_time": "2023-06-16T11:36:27.320105Z"
    }
   },
   "outputs": [
    {
     "name": "stderr",
     "output_type": "stream",
     "text": [
      "C:\\Users\\Srikanth\\AppData\\Local\\Temp\\ipykernel_9416\\3401367348.py:1: FutureWarning: Dropping of nuisance columns in DataFrame reductions (with 'numeric_only=None') is deprecated; in a future version this will raise TypeError.  Select only valid columns before calling the reduction.\n",
      "  dataframe.std()\n"
     ]
    },
    {
     "data": {
      "text/plain": [
       "Age                           9.135373\n",
       "DistanceFromHome              8.106864\n",
       "Education                     1.024165\n",
       "EnvironmentSatisfaction       1.093082\n",
       "JobSatisfaction               1.102846\n",
       "MonthlyIncome              4707.956783\n",
       "NumCompaniesWorked            2.498009\n",
       "WorkLifeBalance               0.706476\n",
       "YearsAtCompany                6.126525\n",
       "dtype: float64"
      ]
     },
     "execution_count": 13,
     "metadata": {},
     "output_type": "execute_result"
    }
   ],
   "source": [
    "dataframe.std()"
   ]
  },
  {
   "cell_type": "code",
   "execution_count": 14,
   "metadata": {
    "ExecuteTime": {
     "end_time": "2023-06-16T11:36:27.383890Z",
     "start_time": "2023-06-16T11:36:27.359265Z"
    }
   },
   "outputs": [
    {
     "data": {
      "text/plain": [
       "No     1233\n",
       "Yes     237\n",
       "Name: Attrition, dtype: int64"
      ]
     },
     "execution_count": 14,
     "metadata": {},
     "output_type": "execute_result"
    }
   ],
   "source": [
    "dataframe['Attrition'].value_counts()"
   ]
  },
  {
   "cell_type": "code",
   "execution_count": 15,
   "metadata": {
    "ExecuteTime": {
     "end_time": "2023-06-16T11:36:27.406688Z",
     "start_time": "2023-06-16T11:36:27.383890Z"
    }
   },
   "outputs": [
    {
     "data": {
      "text/plain": [
       "dtype('O')"
      ]
     },
     "execution_count": 15,
     "metadata": {},
     "output_type": "execute_result"
    }
   ],
   "source": [
    "dataframe['Attrition'].dtypes"
   ]
  },
  {
   "cell_type": "code",
   "execution_count": 16,
   "metadata": {
    "ExecuteTime": {
     "end_time": "2023-06-16T11:36:27.434102Z",
     "start_time": "2023-06-16T11:36:27.409817Z"
    }
   },
   "outputs": [],
   "source": [
    "dataframe['Attrition'].replace('Yes',1, inplace=True)\n",
    "dataframe['Attrition'].replace('No',0, inplace=True)"
   ]
  },
  {
   "cell_type": "code",
   "execution_count": 17,
   "metadata": {
    "ExecuteTime": {
     "end_time": "2023-06-16T11:36:27.467238Z",
     "start_time": "2023-06-16T11:36:27.434102Z"
    }
   },
   "outputs": [
    {
     "data": {
      "text/html": [
       "<div>\n",
       "<style scoped>\n",
       "    .dataframe tbody tr th:only-of-type {\n",
       "        vertical-align: middle;\n",
       "    }\n",
       "\n",
       "    .dataframe tbody tr th {\n",
       "        vertical-align: top;\n",
       "    }\n",
       "\n",
       "    .dataframe thead th {\n",
       "        text-align: right;\n",
       "    }\n",
       "</style>\n",
       "<table border=\"1\" class=\"dataframe\">\n",
       "  <thead>\n",
       "    <tr style=\"text-align: right;\">\n",
       "      <th></th>\n",
       "      <th>Age</th>\n",
       "      <th>Attrition</th>\n",
       "      <th>Department</th>\n",
       "      <th>DistanceFromHome</th>\n",
       "      <th>Education</th>\n",
       "      <th>EducationField</th>\n",
       "      <th>EnvironmentSatisfaction</th>\n",
       "      <th>JobSatisfaction</th>\n",
       "      <th>MaritalStatus</th>\n",
       "      <th>MonthlyIncome</th>\n",
       "      <th>NumCompaniesWorked</th>\n",
       "      <th>WorkLifeBalance</th>\n",
       "      <th>YearsAtCompany</th>\n",
       "    </tr>\n",
       "  </thead>\n",
       "  <tbody>\n",
       "    <tr>\n",
       "      <th>0</th>\n",
       "      <td>41</td>\n",
       "      <td>1</td>\n",
       "      <td>Sales</td>\n",
       "      <td>1</td>\n",
       "      <td>2</td>\n",
       "      <td>Life Sciences</td>\n",
       "      <td>2</td>\n",
       "      <td>4</td>\n",
       "      <td>Single</td>\n",
       "      <td>5993</td>\n",
       "      <td>8</td>\n",
       "      <td>1</td>\n",
       "      <td>6</td>\n",
       "    </tr>\n",
       "    <tr>\n",
       "      <th>1</th>\n",
       "      <td>49</td>\n",
       "      <td>0</td>\n",
       "      <td>Research &amp; Development</td>\n",
       "      <td>8</td>\n",
       "      <td>1</td>\n",
       "      <td>Life Sciences</td>\n",
       "      <td>3</td>\n",
       "      <td>2</td>\n",
       "      <td>Married</td>\n",
       "      <td>5130</td>\n",
       "      <td>1</td>\n",
       "      <td>3</td>\n",
       "      <td>10</td>\n",
       "    </tr>\n",
       "    <tr>\n",
       "      <th>2</th>\n",
       "      <td>37</td>\n",
       "      <td>1</td>\n",
       "      <td>Research &amp; Development</td>\n",
       "      <td>2</td>\n",
       "      <td>2</td>\n",
       "      <td>Other</td>\n",
       "      <td>4</td>\n",
       "      <td>3</td>\n",
       "      <td>Single</td>\n",
       "      <td>2090</td>\n",
       "      <td>6</td>\n",
       "      <td>3</td>\n",
       "      <td>0</td>\n",
       "    </tr>\n",
       "    <tr>\n",
       "      <th>3</th>\n",
       "      <td>33</td>\n",
       "      <td>0</td>\n",
       "      <td>Research &amp; Development</td>\n",
       "      <td>3</td>\n",
       "      <td>4</td>\n",
       "      <td>Life Sciences</td>\n",
       "      <td>4</td>\n",
       "      <td>3</td>\n",
       "      <td>Married</td>\n",
       "      <td>2909</td>\n",
       "      <td>1</td>\n",
       "      <td>3</td>\n",
       "      <td>8</td>\n",
       "    </tr>\n",
       "    <tr>\n",
       "      <th>4</th>\n",
       "      <td>27</td>\n",
       "      <td>0</td>\n",
       "      <td>Research &amp; Development</td>\n",
       "      <td>2</td>\n",
       "      <td>1</td>\n",
       "      <td>Medical</td>\n",
       "      <td>1</td>\n",
       "      <td>2</td>\n",
       "      <td>Married</td>\n",
       "      <td>3468</td>\n",
       "      <td>9</td>\n",
       "      <td>3</td>\n",
       "      <td>2</td>\n",
       "    </tr>\n",
       "    <tr>\n",
       "      <th>5</th>\n",
       "      <td>32</td>\n",
       "      <td>0</td>\n",
       "      <td>Research &amp; Development</td>\n",
       "      <td>2</td>\n",
       "      <td>2</td>\n",
       "      <td>Life Sciences</td>\n",
       "      <td>4</td>\n",
       "      <td>4</td>\n",
       "      <td>Single</td>\n",
       "      <td>3068</td>\n",
       "      <td>0</td>\n",
       "      <td>2</td>\n",
       "      <td>7</td>\n",
       "    </tr>\n",
       "    <tr>\n",
       "      <th>6</th>\n",
       "      <td>59</td>\n",
       "      <td>0</td>\n",
       "      <td>Research &amp; Development</td>\n",
       "      <td>3</td>\n",
       "      <td>3</td>\n",
       "      <td>Medical</td>\n",
       "      <td>3</td>\n",
       "      <td>1</td>\n",
       "      <td>Married</td>\n",
       "      <td>2670</td>\n",
       "      <td>4</td>\n",
       "      <td>2</td>\n",
       "      <td>1</td>\n",
       "    </tr>\n",
       "    <tr>\n",
       "      <th>7</th>\n",
       "      <td>30</td>\n",
       "      <td>0</td>\n",
       "      <td>Research &amp; Development</td>\n",
       "      <td>24</td>\n",
       "      <td>1</td>\n",
       "      <td>Life Sciences</td>\n",
       "      <td>4</td>\n",
       "      <td>3</td>\n",
       "      <td>Divorced</td>\n",
       "      <td>2693</td>\n",
       "      <td>1</td>\n",
       "      <td>3</td>\n",
       "      <td>1</td>\n",
       "    </tr>\n",
       "    <tr>\n",
       "      <th>8</th>\n",
       "      <td>38</td>\n",
       "      <td>0</td>\n",
       "      <td>Research &amp; Development</td>\n",
       "      <td>23</td>\n",
       "      <td>3</td>\n",
       "      <td>Life Sciences</td>\n",
       "      <td>4</td>\n",
       "      <td>3</td>\n",
       "      <td>Single</td>\n",
       "      <td>9526</td>\n",
       "      <td>0</td>\n",
       "      <td>3</td>\n",
       "      <td>9</td>\n",
       "    </tr>\n",
       "    <tr>\n",
       "      <th>9</th>\n",
       "      <td>36</td>\n",
       "      <td>0</td>\n",
       "      <td>Research &amp; Development</td>\n",
       "      <td>27</td>\n",
       "      <td>3</td>\n",
       "      <td>Medical</td>\n",
       "      <td>3</td>\n",
       "      <td>3</td>\n",
       "      <td>Married</td>\n",
       "      <td>5237</td>\n",
       "      <td>6</td>\n",
       "      <td>2</td>\n",
       "      <td>7</td>\n",
       "    </tr>\n",
       "  </tbody>\n",
       "</table>\n",
       "</div>"
      ],
      "text/plain": [
       "   Age  Attrition              Department  DistanceFromHome  Education  \\\n",
       "0   41          1                   Sales                 1          2   \n",
       "1   49          0  Research & Development                 8          1   \n",
       "2   37          1  Research & Development                 2          2   \n",
       "3   33          0  Research & Development                 3          4   \n",
       "4   27          0  Research & Development                 2          1   \n",
       "5   32          0  Research & Development                 2          2   \n",
       "6   59          0  Research & Development                 3          3   \n",
       "7   30          0  Research & Development                24          1   \n",
       "8   38          0  Research & Development                23          3   \n",
       "9   36          0  Research & Development                27          3   \n",
       "\n",
       "  EducationField  EnvironmentSatisfaction  JobSatisfaction MaritalStatus  \\\n",
       "0  Life Sciences                        2                4        Single   \n",
       "1  Life Sciences                        3                2       Married   \n",
       "2          Other                        4                3        Single   \n",
       "3  Life Sciences                        4                3       Married   \n",
       "4        Medical                        1                2       Married   \n",
       "5  Life Sciences                        4                4        Single   \n",
       "6        Medical                        3                1       Married   \n",
       "7  Life Sciences                        4                3      Divorced   \n",
       "8  Life Sciences                        4                3        Single   \n",
       "9        Medical                        3                3       Married   \n",
       "\n",
       "   MonthlyIncome  NumCompaniesWorked  WorkLifeBalance  YearsAtCompany  \n",
       "0           5993                   8                1               6  \n",
       "1           5130                   1                3              10  \n",
       "2           2090                   6                3               0  \n",
       "3           2909                   1                3               8  \n",
       "4           3468                   9                3               2  \n",
       "5           3068                   0                2               7  \n",
       "6           2670                   4                2               1  \n",
       "7           2693                   1                3               1  \n",
       "8           9526                   0                3               9  \n",
       "9           5237                   6                2               7  "
      ]
     },
     "execution_count": 17,
     "metadata": {},
     "output_type": "execute_result"
    }
   ],
   "source": [
    "dataframe.head(10)"
   ]
  },
  {
   "cell_type": "code",
   "execution_count": 18,
   "metadata": {
    "ExecuteTime": {
     "end_time": "2023-06-16T11:36:27.500907Z",
     "start_time": "2023-06-16T11:36:27.469809Z"
    }
   },
   "outputs": [
    {
     "data": {
      "text/plain": [
       "0    1\n",
       "1    0\n",
       "2    1\n",
       "3    0\n",
       "4    0\n",
       "Name: Attrition, dtype: int64"
      ]
     },
     "execution_count": 18,
     "metadata": {},
     "output_type": "execute_result"
    }
   ],
   "source": [
    "# building up a logistic regression model\n",
    "X = dataframe.drop(['Attrition'],axis=1)\n",
    "X.head()\n",
    "Y = dataframe['Attrition']\n",
    "Y.head()"
   ]
  },
  {
   "cell_type": "code",
   "execution_count": 19,
   "metadata": {
    "ExecuteTime": {
     "end_time": "2023-06-16T11:36:27.540256Z",
     "start_time": "2023-06-16T11:36:27.500907Z"
    }
   },
   "outputs": [],
   "source": [
    "dataframe['EducationField'].replace('Life Sciences',1, inplace=True)\n",
    "dataframe['EducationField'].replace('Medical',2, inplace=True)\n",
    "dataframe['EducationField'].replace('Marketing', 3, inplace=True)\n",
    "dataframe['EducationField'].replace('Other',4, inplace=True)\n",
    "dataframe['EducationField'].replace('Technical Degree',5, inplace=True)\n",
    "dataframe['EducationField'].replace('Human Resources', 6, inplace=True)"
   ]
  },
  {
   "cell_type": "code",
   "execution_count": 20,
   "metadata": {
    "ExecuteTime": {
     "end_time": "2023-06-16T11:36:27.567451Z",
     "start_time": "2023-06-16T11:36:27.543005Z"
    }
   },
   "outputs": [
    {
     "data": {
      "text/plain": [
       "1    606\n",
       "2    464\n",
       "3    159\n",
       "5    132\n",
       "4     82\n",
       "6     27\n",
       "Name: EducationField, dtype: int64"
      ]
     },
     "execution_count": 20,
     "metadata": {},
     "output_type": "execute_result"
    }
   ],
   "source": [
    "dataframe['EducationField'].value_counts()"
   ]
  },
  {
   "cell_type": "code",
   "execution_count": 21,
   "metadata": {
    "ExecuteTime": {
     "end_time": "2023-06-16T11:36:27.592159Z",
     "start_time": "2023-06-16T11:36:27.567451Z"
    }
   },
   "outputs": [
    {
     "data": {
      "text/plain": [
       "Research & Development    961\n",
       "Sales                     446\n",
       "Human Resources            63\n",
       "Name: Department, dtype: int64"
      ]
     },
     "execution_count": 21,
     "metadata": {},
     "output_type": "execute_result"
    }
   ],
   "source": [
    "dataframe['Department'].value_counts()"
   ]
  },
  {
   "cell_type": "code",
   "execution_count": 22,
   "metadata": {
    "ExecuteTime": {
     "end_time": "2023-06-16T11:36:27.623990Z",
     "start_time": "2023-06-16T11:36:27.594362Z"
    }
   },
   "outputs": [],
   "source": [
    "dataframe['Department'].replace('Research & Development',1, inplace=True)\n",
    "dataframe['Department'].replace('Sales',2, inplace=True)\n",
    "dataframe['Department'].replace('Human Resources', 3, inplace=True)"
   ]
  },
  {
   "cell_type": "code",
   "execution_count": 23,
   "metadata": {
    "ExecuteTime": {
     "end_time": "2023-06-16T11:36:27.658776Z",
     "start_time": "2023-06-16T11:36:27.626138Z"
    }
   },
   "outputs": [
    {
     "data": {
      "text/plain": [
       "1    961\n",
       "2    446\n",
       "3     63\n",
       "Name: Department, dtype: int64"
      ]
     },
     "execution_count": 23,
     "metadata": {},
     "output_type": "execute_result"
    }
   ],
   "source": [
    "dataframe['Department'].value_counts()"
   ]
  },
  {
   "cell_type": "code",
   "execution_count": 24,
   "metadata": {
    "ExecuteTime": {
     "end_time": "2023-06-16T11:36:27.683656Z",
     "start_time": "2023-06-16T11:36:27.660389Z"
    }
   },
   "outputs": [
    {
     "data": {
      "text/plain": [
       "Married     673\n",
       "Single      470\n",
       "Divorced    327\n",
       "Name: MaritalStatus, dtype: int64"
      ]
     },
     "execution_count": 24,
     "metadata": {},
     "output_type": "execute_result"
    }
   ],
   "source": [
    "dataframe['MaritalStatus'].value_counts()"
   ]
  },
  {
   "cell_type": "code",
   "execution_count": 25,
   "metadata": {
    "ExecuteTime": {
     "end_time": "2023-06-16T11:36:27.708801Z",
     "start_time": "2023-06-16T11:36:27.683656Z"
    }
   },
   "outputs": [],
   "source": [
    "dataframe['MaritalStatus'].replace('Married',1, inplace=True)\n",
    "dataframe['MaritalStatus'].replace('Single',2, inplace=True)\n",
    "dataframe['MaritalStatus'].replace('Divorced',3, inplace=True)"
   ]
  },
  {
   "cell_type": "code",
   "execution_count": 26,
   "metadata": {
    "ExecuteTime": {
     "end_time": "2023-06-16T11:36:27.740748Z",
     "start_time": "2023-06-16T11:36:27.709615Z"
    }
   },
   "outputs": [
    {
     "data": {
      "text/plain": [
       "1    673\n",
       "2    470\n",
       "3    327\n",
       "Name: MaritalStatus, dtype: int64"
      ]
     },
     "execution_count": 26,
     "metadata": {},
     "output_type": "execute_result"
    }
   ],
   "source": [
    "dataframe['MaritalStatus'].value_counts()"
   ]
  },
  {
   "cell_type": "code",
   "execution_count": 27,
   "metadata": {
    "ExecuteTime": {
     "end_time": "2023-06-16T11:36:27.773029Z",
     "start_time": "2023-06-16T11:36:27.742946Z"
    }
   },
   "outputs": [
    {
     "data": {
      "text/plain": [
       "Age                        int64\n",
       "Attrition                  int64\n",
       "Department                 int64\n",
       "DistanceFromHome           int64\n",
       "Education                  int64\n",
       "EducationField             int64\n",
       "EnvironmentSatisfaction    int64\n",
       "JobSatisfaction            int64\n",
       "MaritalStatus              int64\n",
       "MonthlyIncome              int64\n",
       "NumCompaniesWorked         int64\n",
       "WorkLifeBalance            int64\n",
       "YearsAtCompany             int64\n",
       "dtype: object"
      ]
     },
     "execution_count": 27,
     "metadata": {},
     "output_type": "execute_result"
    }
   ],
   "source": [
    "x=dataframe.select_dtypes(include=['int64'])\n",
    "x.dtypes"
   ]
  },
  {
   "cell_type": "code",
   "execution_count": 28,
   "metadata": {
    "ExecuteTime": {
     "end_time": "2023-06-16T11:36:27.805705Z",
     "start_time": "2023-06-16T11:36:27.781200Z"
    }
   },
   "outputs": [
    {
     "data": {
      "text/plain": [
       "Index(['Age', 'Attrition', 'Department', 'DistanceFromHome', 'Education',\n",
       "       'EducationField', 'EnvironmentSatisfaction', 'JobSatisfaction',\n",
       "       'MaritalStatus', 'MonthlyIncome', 'NumCompaniesWorked',\n",
       "       'WorkLifeBalance', 'YearsAtCompany'],\n",
       "      dtype='object')"
      ]
     },
     "execution_count": 28,
     "metadata": {},
     "output_type": "execute_result"
    }
   ],
   "source": [
    "x.columns"
   ]
  },
  {
   "cell_type": "code",
   "execution_count": 29,
   "metadata": {
    "ExecuteTime": {
     "end_time": "2023-06-16T11:36:27.821956Z",
     "start_time": "2023-06-16T11:36:27.809917Z"
    }
   },
   "outputs": [],
   "source": [
    "y=dataframe['Attrition']"
   ]
  },
  {
   "cell_type": "code",
   "execution_count": 30,
   "metadata": {
    "ExecuteTime": {
     "end_time": "2023-06-16T11:36:27.853960Z",
     "start_time": "2023-06-16T11:36:27.826534Z"
    }
   },
   "outputs": [
    {
     "data": {
      "text/plain": [
       "0    1\n",
       "1    0\n",
       "2    1\n",
       "3    0\n",
       "4    0\n",
       "Name: Attrition, dtype: int64"
      ]
     },
     "execution_count": 30,
     "metadata": {},
     "output_type": "execute_result"
    }
   ],
   "source": [
    "y.head()"
   ]
  },
  {
   "cell_type": "code",
   "execution_count": 31,
   "metadata": {
    "ExecuteTime": {
     "end_time": "2023-06-16T11:36:27.909406Z",
     "start_time": "2023-06-16T11:36:27.859635Z"
    }
   },
   "outputs": [
    {
     "name": "stdout",
     "output_type": "stream",
     "text": [
      "Index(['Intercept', 'Age', 'Department', 'DistanceFromHome', 'Education',\n",
      "       'EducationField', 'YearsAtCompany'],\n",
      "      dtype='object')\n"
     ]
    }
   ],
   "source": [
    "y, x = dmatrices('Attrition ~ Age + Department + \\\n",
    "                  DistanceFromHome + Education + EducationField + YearsAtCompany',\n",
    "                  dataframe, return_type=\"dataframe\")\n",
    "print (x.columns)"
   ]
  },
  {
   "cell_type": "code",
   "execution_count": 32,
   "metadata": {
    "ExecuteTime": {
     "end_time": "2023-06-16T11:36:27.925061Z",
     "start_time": "2023-06-16T11:36:27.911029Z"
    }
   },
   "outputs": [],
   "source": [
    "y = np.ravel(y)"
   ]
  },
  {
   "cell_type": "code",
   "execution_count": 33,
   "metadata": {
    "ExecuteTime": {
     "end_time": "2023-06-16T11:36:28.545652Z",
     "start_time": "2023-06-16T11:36:27.927740Z"
    }
   },
   "outputs": [
    {
     "data": {
      "text/plain": [
       "0.8408163265306122"
      ]
     },
     "execution_count": 33,
     "metadata": {},
     "output_type": "execute_result"
    }
   ],
   "source": [
    "from sklearn.linear_model import LogisticRegression\n",
    "\n",
    "model = LogisticRegression()\n",
    "model = model.fit(x, y)\n",
    "\n",
    "# check the accuracy on the training set\n",
    "model.score(x, y)"
   ]
  },
  {
   "cell_type": "code",
   "execution_count": 34,
   "metadata": {
    "ExecuteTime": {
     "end_time": "2023-06-16T11:36:28.570318Z",
     "start_time": "2023-06-16T11:36:28.545652Z"
    }
   },
   "outputs": [
    {
     "data": {
      "text/plain": [
       "0.16122448979591836"
      ]
     },
     "execution_count": 34,
     "metadata": {},
     "output_type": "execute_result"
    }
   ],
   "source": [
    "y.mean()"
   ]
  },
  {
   "cell_type": "code",
   "execution_count": 35,
   "metadata": {
    "ExecuteTime": {
     "end_time": "2023-06-16T11:36:28.667464Z",
     "start_time": "2023-06-16T11:36:28.578400Z"
    }
   },
   "outputs": [
    {
     "data": {
      "text/plain": [
       "LogisticRegression()"
      ]
     },
     "execution_count": 35,
     "metadata": {},
     "output_type": "execute_result"
    }
   ],
   "source": [
    "X_train,X_test,y_train,y_test=sklearn.model_selection.train_test_split(x,y, test_size=0.3, random_state=0)\n",
    "model2=LogisticRegression()\n",
    "model2.fit(X_train, y_train)"
   ]
  },
  {
   "cell_type": "code",
   "execution_count": 36,
   "metadata": {
    "ExecuteTime": {
     "end_time": "2023-06-16T11:36:28.702007Z",
     "start_time": "2023-06-16T11:36:28.669390Z"
    }
   },
   "outputs": [
    {
     "name": "stdout",
     "output_type": "stream",
     "text": [
      "[0. 0. 0. 0. 0. 0. 0. 0. 0. 0. 0. 0. 0. 0. 0. 0. 0. 0. 0. 0. 0. 0. 0. 0.\n",
      " 0. 0. 0. 0. 0. 0. 0. 0. 0. 0. 0. 0. 0. 0. 0. 0. 0. 0. 0. 0. 0. 0. 0. 0.\n",
      " 0. 0. 0. 0. 0. 0. 0. 0. 0. 0. 0. 0. 0. 0. 0. 0. 0. 0. 0. 0. 0. 0. 0. 0.\n",
      " 0. 0. 0. 0. 0. 0. 0. 0. 0. 0. 0. 0. 0. 0. 0. 0. 0. 0. 0. 0. 0. 0. 0. 0.\n",
      " 0. 0. 0. 0. 0. 0. 0. 0. 0. 0. 0. 0. 0. 0. 0. 0. 0. 0. 0. 0. 0. 0. 0. 0.\n",
      " 0. 0. 0. 0. 0. 0. 0. 0. 0. 0. 0. 0. 0. 0. 0. 0. 0. 0. 0. 0. 0. 0. 0. 0.\n",
      " 0. 0. 0. 0. 0. 0. 0. 0. 0. 0. 0. 0. 0. 0. 0. 0. 0. 0. 0. 0. 0. 0. 0. 0.\n",
      " 0. 0. 0. 0. 0. 0. 0. 0. 0. 0. 0. 0. 0. 0. 0. 0. 0. 0. 0. 0. 0. 0. 0. 0.\n",
      " 0. 0. 0. 0. 0. 0. 0. 0. 0. 0. 0. 0. 0. 0. 0. 0. 0. 0. 0. 0. 0. 0. 0. 0.\n",
      " 0. 0. 0. 0. 0. 0. 0. 0. 0. 0. 0. 0. 0. 0. 0. 0. 0. 0. 0. 0. 0. 0. 0. 0.\n",
      " 0. 0. 0. 0. 0. 0. 0. 0. 0. 0. 0. 0. 0. 0. 0. 0. 0. 0. 0. 0. 0. 0. 0. 0.\n",
      " 0. 0. 0. 0. 0. 0. 0. 0. 0. 0. 0. 0. 0. 0. 0. 0. 0. 0. 0. 0. 0. 0. 0. 0.\n",
      " 0. 0. 0. 0. 0. 0. 0. 0. 0. 0. 0. 0. 0. 0. 0. 0. 0. 0. 0. 0. 0. 0. 0. 0.\n",
      " 0. 0. 0. 0. 0. 0. 0. 0. 1. 0. 0. 0. 0. 0. 0. 0. 0. 0. 0. 0. 0. 0. 0. 0.\n",
      " 0. 0. 0. 0. 0. 0. 0. 0. 0. 0. 0. 0. 0. 0. 0. 0. 0. 0. 0. 0. 0. 0. 0. 0.\n",
      " 0. 0. 0. 0. 0. 0. 0. 0. 0. 0. 0. 0. 0. 0. 0. 0. 0. 0. 0. 0. 0. 0. 0. 0.\n",
      " 0. 0. 0. 0. 0. 0. 0. 0. 0. 0. 0. 0. 0. 0. 0. 0. 0. 0. 0. 0. 0. 0. 0. 0.\n",
      " 0. 0. 0. 0. 0. 0. 0. 0. 0. 0. 0. 0. 0. 0. 0. 0. 0. 0. 0. 0. 0. 0. 0. 0.\n",
      " 0. 0. 0. 0. 0. 0. 0. 0. 0.]\n"
     ]
    }
   ],
   "source": [
    "predicted= model2.predict(X_test)\n",
    "print (predicted)"
   ]
  },
  {
   "cell_type": "code",
   "execution_count": 37,
   "metadata": {
    "ExecuteTime": {
     "end_time": "2023-06-16T11:36:28.743851Z",
     "start_time": "2023-06-16T11:36:28.704180Z"
    }
   },
   "outputs": [
    {
     "name": "stdout",
     "output_type": "stream",
     "text": [
      "[[0.86179628 0.13820372]\n",
      " [0.80754594 0.19245406]\n",
      " [0.74123949 0.25876051]\n",
      " [0.83441332 0.16558668]\n",
      " [0.73499942 0.26500058]\n",
      " [0.79097748 0.20902252]\n",
      " [0.85615201 0.14384799]\n",
      " [0.85699673 0.14300327]\n",
      " [0.96699054 0.03300946]\n",
      " [0.93685204 0.06314796]\n",
      " [0.9509927  0.0490073 ]\n",
      " [0.83101545 0.16898455]\n",
      " [0.86296552 0.13703448]\n",
      " [0.86581192 0.13418808]\n",
      " [0.88750597 0.11249403]\n",
      " [0.88892617 0.11107383]\n",
      " [0.8856972  0.1143028 ]\n",
      " [0.78516587 0.21483413]\n",
      " [0.79794491 0.20205509]\n",
      " [0.88511297 0.11488703]\n",
      " [0.70651606 0.29348394]\n",
      " [0.94676687 0.05323313]\n",
      " [0.86736256 0.13263744]\n",
      " [0.84276456 0.15723544]\n",
      " [0.60336869 0.39663131]\n",
      " [0.81129201 0.18870799]\n",
      " [0.91813725 0.08186275]\n",
      " [0.93285519 0.06714481]\n",
      " [0.68230774 0.31769226]\n",
      " [0.87027133 0.12972867]\n",
      " [0.87266383 0.12733617]\n",
      " [0.76968743 0.23031257]\n",
      " [0.86435763 0.13564237]\n",
      " [0.95758875 0.04241125]\n",
      " [0.84461483 0.15538517]\n",
      " [0.86719352 0.13280648]\n",
      " [0.90465974 0.09534026]\n",
      " [0.68936432 0.31063568]\n",
      " [0.90703613 0.09296387]\n",
      " [0.80663481 0.19336519]\n",
      " [0.91515719 0.08484281]\n",
      " [0.82351281 0.17648719]\n",
      " [0.93711511 0.06288489]\n",
      " [0.93411323 0.06588677]\n",
      " [0.89447651 0.10552349]\n",
      " [0.85317746 0.14682254]\n",
      " [0.78922388 0.21077612]\n",
      " [0.84879886 0.15120114]\n",
      " [0.66402471 0.33597529]\n",
      " [0.76252304 0.23747696]\n",
      " [0.92851106 0.07148894]\n",
      " [0.78953698 0.21046302]\n",
      " [0.86166598 0.13833402]\n",
      " [0.85837891 0.14162109]\n",
      " [0.87217673 0.12782327]\n",
      " [0.78950902 0.21049098]\n",
      " [0.8769079  0.1230921 ]\n",
      " [0.84165443 0.15834557]\n",
      " [0.72847168 0.27152832]\n",
      " [0.83181413 0.16818587]\n",
      " [0.90095038 0.09904962]\n",
      " [0.71077342 0.28922658]\n",
      " [0.92823017 0.07176983]\n",
      " [0.84375684 0.15624316]\n",
      " [0.79544111 0.20455889]\n",
      " [0.86826153 0.13173847]\n",
      " [0.9167945  0.0832055 ]\n",
      " [0.84763055 0.15236945]\n",
      " [0.89253706 0.10746294]\n",
      " [0.62872145 0.37127855]\n",
      " [0.93875386 0.06124614]\n",
      " [0.72620341 0.27379659]\n",
      " [0.85652973 0.14347027]\n",
      " [0.84226022 0.15773978]\n",
      " [0.77436401 0.22563599]\n",
      " [0.71899559 0.28100441]\n",
      " [0.93587382 0.06412618]\n",
      " [0.95710065 0.04289935]\n",
      " [0.7918585  0.2081415 ]\n",
      " [0.89370436 0.10629564]\n",
      " [0.91382034 0.08617966]\n",
      " [0.79354591 0.20645409]\n",
      " [0.77934028 0.22065972]\n",
      " [0.79639005 0.20360995]\n",
      " [0.83800492 0.16199508]\n",
      " [0.7139568  0.2860432 ]\n",
      " [0.97772712 0.02227288]\n",
      " [0.94645968 0.05354032]\n",
      " [0.88617621 0.11382379]\n",
      " [0.79620162 0.20379838]\n",
      " [0.61863853 0.38136147]\n",
      " [0.81866468 0.18133532]\n",
      " [0.74504141 0.25495859]\n",
      " [0.86779494 0.13220506]\n",
      " [0.87071138 0.12928862]\n",
      " [0.81717475 0.18282525]\n",
      " [0.71840763 0.28159237]\n",
      " [0.5982592  0.4017408 ]\n",
      " [0.83951544 0.16048456]\n",
      " [0.88351323 0.11648677]\n",
      " [0.74352594 0.25647406]\n",
      " [0.76631611 0.23368389]\n",
      " [0.98033034 0.01966966]\n",
      " [0.91857463 0.08142537]\n",
      " [0.77432841 0.22567159]\n",
      " [0.9251481  0.0748519 ]\n",
      " [0.88123383 0.11876617]\n",
      " [0.74587191 0.25412809]\n",
      " [0.9047836  0.0952164 ]\n",
      " [0.78685538 0.21314462]\n",
      " [0.8114777  0.1885223 ]\n",
      " [0.9347217  0.0652783 ]\n",
      " [0.93836498 0.06163502]\n",
      " [0.79411745 0.20588255]\n",
      " [0.81372905 0.18627095]\n",
      " [0.91610916 0.08389084]\n",
      " [0.9042834  0.0957166 ]\n",
      " [0.84669427 0.15330573]\n",
      " [0.95384546 0.04615454]\n",
      " [0.91283689 0.08716311]\n",
      " [0.85919598 0.14080402]\n",
      " [0.85902502 0.14097498]\n",
      " [0.87519519 0.12480481]\n",
      " [0.76114675 0.23885325]\n",
      " [0.92217682 0.07782318]\n",
      " [0.96859406 0.03140594]\n",
      " [0.94398213 0.05601787]\n",
      " [0.81780296 0.18219704]\n",
      " [0.88058701 0.11941299]\n",
      " [0.7789428  0.2210572 ]\n",
      " [0.97124461 0.02875539]\n",
      " [0.88807661 0.11192339]\n",
      " [0.78715259 0.21284741]\n",
      " [0.82001484 0.17998516]\n",
      " [0.94934538 0.05065462]\n",
      " [0.95888929 0.04111071]\n",
      " [0.73559236 0.26440764]\n",
      " [0.9341699  0.0658301 ]\n",
      " [0.7375065  0.2624935 ]\n",
      " [0.82136756 0.17863244]\n",
      " [0.82171199 0.17828801]\n",
      " [0.89896702 0.10103298]\n",
      " [0.78745759 0.21254241]\n",
      " [0.89825345 0.10174655]\n",
      " [0.91433813 0.08566187]\n",
      " [0.92724743 0.07275257]\n",
      " [0.96594962 0.03405038]\n",
      " [0.94417359 0.05582641]\n",
      " [0.93073078 0.06926922]\n",
      " [0.66320599 0.33679401]\n",
      " [0.84168654 0.15831346]\n",
      " [0.82636819 0.17363181]\n",
      " [0.80616641 0.19383359]\n",
      " [0.9615763  0.0384237 ]\n",
      " [0.93515158 0.06484842]\n",
      " [0.94778619 0.05221381]\n",
      " [0.97337822 0.02662178]\n",
      " [0.79297066 0.20702934]\n",
      " [0.87770192 0.12229808]\n",
      " [0.86103662 0.13896338]\n",
      " [0.95185476 0.04814524]\n",
      " [0.93131494 0.06868506]\n",
      " [0.75685365 0.24314635]\n",
      " [0.74997809 0.25002191]\n",
      " [0.95527862 0.04472138]\n",
      " [0.86950717 0.13049283]\n",
      " [0.81376772 0.18623228]\n",
      " [0.76990618 0.23009382]\n",
      " [0.80077916 0.19922084]\n",
      " [0.92801117 0.07198883]\n",
      " [0.90949242 0.09050758]\n",
      " [0.94557621 0.05442379]\n",
      " [0.93330461 0.06669539]\n",
      " [0.69145925 0.30854075]\n",
      " [0.93056876 0.06943124]\n",
      " [0.74525437 0.25474563]\n",
      " [0.78594348 0.21405652]\n",
      " [0.93308597 0.06691403]\n",
      " [0.80878288 0.19121712]\n",
      " [0.85096456 0.14903544]\n",
      " [0.66956292 0.33043708]\n",
      " [0.90338378 0.09661622]\n",
      " [0.91158927 0.08841073]\n",
      " [0.87300498 0.12699502]\n",
      " [0.92939051 0.07060949]\n",
      " [0.66661742 0.33338258]\n",
      " [0.8909851  0.1090149 ]\n",
      " [0.8621671  0.1378329 ]\n",
      " [0.78838554 0.21161446]\n",
      " [0.53099644 0.46900356]\n",
      " [0.73344335 0.26655665]\n",
      " [0.71053988 0.28946012]\n",
      " [0.85530489 0.14469511]\n",
      " [0.86960597 0.13039403]\n",
      " [0.75470008 0.24529992]\n",
      " [0.89823509 0.10176491]\n",
      " [0.79247846 0.20752154]\n",
      " [0.90643133 0.09356867]\n",
      " [0.77650779 0.22349221]\n",
      " [0.88387787 0.11612213]\n",
      " [0.8540431  0.1459569 ]\n",
      " [0.8189937  0.1810063 ]\n",
      " [0.74448529 0.25551471]\n",
      " [0.86259435 0.13740565]\n",
      " [0.77822627 0.22177373]\n",
      " [0.76928329 0.23071671]\n",
      " [0.79679232 0.20320768]\n",
      " [0.9209659  0.0790341 ]\n",
      " [0.74573777 0.25426223]\n",
      " [0.87499223 0.12500777]\n",
      " [0.85503287 0.14496713]\n",
      " [0.77292165 0.22707835]\n",
      " [0.87227274 0.12772726]\n",
      " [0.6739537  0.3260463 ]\n",
      " [0.93621659 0.06378341]\n",
      " [0.82479478 0.17520522]\n",
      " [0.95146043 0.04853957]\n",
      " [0.83462453 0.16537547]\n",
      " [0.81106473 0.18893527]\n",
      " [0.80828262 0.19171738]\n",
      " [0.87664149 0.12335851]\n",
      " [0.66787003 0.33212997]\n",
      " [0.59616861 0.40383139]\n",
      " [0.98979362 0.01020638]\n",
      " [0.70634407 0.29365593]\n",
      " [0.91633083 0.08366917]\n",
      " [0.92133471 0.07866529]\n",
      " [0.71383911 0.28616089]\n",
      " [0.62453969 0.37546031]\n",
      " [0.76440582 0.23559418]\n",
      " [0.95401648 0.04598352]\n",
      " [0.88186722 0.11813278]\n",
      " [0.86019897 0.13980103]\n",
      " [0.92117377 0.07882623]\n",
      " [0.88019165 0.11980835]\n",
      " [0.80451438 0.19548562]\n",
      " [0.80585186 0.19414814]\n",
      " [0.91345487 0.08654513]\n",
      " [0.72101815 0.27898185]\n",
      " [0.94507999 0.05492001]\n",
      " [0.90906902 0.09093098]\n",
      " [0.73381758 0.26618242]\n",
      " [0.98109183 0.01890817]\n",
      " [0.85490451 0.14509549]\n",
      " [0.89817065 0.10182935]\n",
      " [0.82436994 0.17563006]\n",
      " [0.83387095 0.16612905]\n",
      " [0.8813664  0.1186336 ]\n",
      " [0.88031308 0.11968692]\n",
      " [0.87560622 0.12439378]\n",
      " [0.81617198 0.18382802]\n",
      " [0.88028844 0.11971156]\n",
      " [0.61530854 0.38469146]\n",
      " [0.88826152 0.11173848]\n",
      " [0.89692808 0.10307192]\n",
      " [0.85328926 0.14671074]\n",
      " [0.98297039 0.01702961]\n",
      " [0.77341247 0.22658753]\n",
      " [0.62184896 0.37815104]\n",
      " [0.82739136 0.17260864]\n",
      " [0.84083341 0.15916659]\n",
      " [0.84808612 0.15191388]\n",
      " [0.84937026 0.15062974]\n",
      " [0.75541005 0.24458995]\n",
      " [0.86188859 0.13811141]\n",
      " [0.90684684 0.09315316]\n",
      " [0.84663276 0.15336724]\n",
      " [0.81290909 0.18709091]\n",
      " [0.74053594 0.25946406]\n",
      " [0.87035275 0.12964725]\n",
      " [0.83938097 0.16061903]\n",
      " [0.86267951 0.13732049]\n",
      " [0.66362916 0.33637084]\n",
      " [0.90671715 0.09328285]\n",
      " [0.8705629  0.1294371 ]\n",
      " [0.92580786 0.07419214]\n",
      " [0.8438686  0.1561314 ]\n",
      " [0.89878142 0.10121858]\n",
      " [0.9123949  0.0876051 ]\n",
      " [0.79867639 0.20132361]\n",
      " [0.64052604 0.35947396]\n",
      " [0.84683945 0.15316055]\n",
      " [0.75503205 0.24496795]\n",
      " [0.85264546 0.14735454]\n",
      " [0.99251431 0.00748569]\n",
      " [0.86138212 0.13861788]\n",
      " [0.88140137 0.11859863]\n",
      " [0.82757087 0.17242913]\n",
      " [0.9302707  0.0697293 ]\n",
      " [0.87307444 0.12692556]\n",
      " [0.88802394 0.11197606]\n",
      " [0.83753327 0.16246673]\n",
      " [0.86481032 0.13518968]\n",
      " [0.86515546 0.13484454]\n",
      " [0.89754788 0.10245212]\n",
      " [0.78409076 0.21590924]\n",
      " [0.79165116 0.20834884]\n",
      " [0.88388126 0.11611874]\n",
      " [0.65418969 0.34581031]\n",
      " [0.94059374 0.05940626]\n",
      " [0.89913434 0.10086566]\n",
      " [0.72525626 0.27474374]\n",
      " [0.69085533 0.30914467]\n",
      " [0.87591629 0.12408371]\n",
      " [0.86562242 0.13437758]\n",
      " [0.97508874 0.02491126]\n",
      " [0.86265125 0.13734875]\n",
      " [0.54036096 0.45963904]\n",
      " [0.91302269 0.08697731]\n",
      " [0.74609598 0.25390402]\n",
      " [0.86758147 0.13241853]\n",
      " [0.88852757 0.11147243]\n",
      " [0.87911717 0.12088283]\n",
      " [0.85664965 0.14335035]\n",
      " [0.77281966 0.22718034]\n",
      " [0.80713976 0.19286024]\n",
      " [0.85285508 0.14714492]\n",
      " [0.77595543 0.22404457]\n",
      " [0.70409836 0.29590164]\n",
      " [0.88971656 0.11028344]\n",
      " [0.48963123 0.51036877]\n",
      " [0.92370645 0.07629355]\n",
      " [0.75572317 0.24427683]\n",
      " [0.67788882 0.32211118]\n",
      " [0.91301003 0.08698997]\n",
      " [0.94029211 0.05970789]\n",
      " [0.88009783 0.11990217]\n",
      " [0.88591162 0.11408838]\n",
      " [0.95656822 0.04343178]\n",
      " [0.8990942  0.1009058 ]\n",
      " [0.94784644 0.05215356]\n",
      " [0.83255779 0.16744221]\n",
      " [0.87822137 0.12177863]\n",
      " [0.81945805 0.18054195]\n",
      " [0.81668789 0.18331211]\n",
      " [0.95036164 0.04963836]\n",
      " [0.86940138 0.13059862]\n",
      " [0.90541594 0.09458406]\n",
      " [0.83661186 0.16338814]\n",
      " [0.84583654 0.15416346]\n",
      " [0.79307981 0.20692019]\n",
      " [0.81808126 0.18191874]\n",
      " [0.81598416 0.18401584]\n",
      " [0.83677562 0.16322438]\n",
      " [0.9144303  0.0855697 ]\n",
      " [0.91533087 0.08466913]\n",
      " [0.68503456 0.31496544]\n",
      " [0.99073757 0.00926243]\n",
      " [0.76795016 0.23204984]\n",
      " [0.79871933 0.20128067]\n",
      " [0.73176832 0.26823168]\n",
      " [0.67465209 0.32534791]\n",
      " [0.79712467 0.20287533]\n",
      " [0.84935621 0.15064379]\n",
      " [0.86467085 0.13532915]\n",
      " [0.8584415  0.1415585 ]\n",
      " [0.84533261 0.15466739]\n",
      " [0.83038799 0.16961201]\n",
      " [0.92192748 0.07807252]\n",
      " [0.83189722 0.16810278]\n",
      " [0.97707549 0.02292451]\n",
      " [0.90418226 0.09581774]\n",
      " [0.92691197 0.07308803]\n",
      " [0.8479736  0.1520264 ]\n",
      " [0.76712577 0.23287423]\n",
      " [0.94895153 0.05104847]\n",
      " [0.94782084 0.05217916]\n",
      " [0.75181517 0.24818483]\n",
      " [0.8788047  0.1211953 ]\n",
      " [0.80770783 0.19229217]\n",
      " [0.93864298 0.06135702]\n",
      " [0.86008494 0.13991506]\n",
      " [0.76056717 0.23943283]\n",
      " [0.9089247  0.0910753 ]\n",
      " [0.75402141 0.24597859]\n",
      " [0.94271839 0.05728161]\n",
      " [0.91827318 0.08172682]\n",
      " [0.90545127 0.09454873]\n",
      " [0.76879465 0.23120535]\n",
      " [0.92358133 0.07641867]\n",
      " [0.80705885 0.19294115]\n",
      " [0.90079526 0.09920474]\n",
      " [0.87933324 0.12066676]\n",
      " [0.80585703 0.19414297]\n",
      " [0.83150065 0.16849935]\n",
      " [0.53816794 0.46183206]\n",
      " [0.95031822 0.04968178]\n",
      " [0.73291917 0.26708083]\n",
      " [0.89182873 0.10817127]\n",
      " [0.80079858 0.19920142]\n",
      " [0.87739803 0.12260197]\n",
      " [0.96805228 0.03194772]\n",
      " [0.81741596 0.18258404]\n",
      " [0.86150086 0.13849914]\n",
      " [0.59407572 0.40592428]\n",
      " [0.8262573  0.1737427 ]\n",
      " [0.92534971 0.07465029]\n",
      " [0.81692206 0.18307794]\n",
      " [0.92586781 0.07413219]\n",
      " [0.89094593 0.10905407]\n",
      " [0.70071772 0.29928228]\n",
      " [0.82181894 0.17818106]\n",
      " [0.96589936 0.03410064]\n",
      " [0.86996989 0.13003011]\n",
      " [0.89918546 0.10081454]\n",
      " [0.88983807 0.11016193]\n",
      " [0.81432465 0.18567535]\n",
      " [0.85830034 0.14169966]\n",
      " [0.83878651 0.16121349]\n",
      " [0.84056579 0.15943421]\n",
      " [0.82661167 0.17338833]\n",
      " [0.94075163 0.05924837]\n",
      " [0.83183533 0.16816467]\n",
      " [0.77561359 0.22438641]\n",
      " [0.69399552 0.30600448]\n",
      " [0.8596213  0.1403787 ]\n",
      " [0.82513941 0.17486059]\n",
      " [0.84107716 0.15892284]\n",
      " [0.87191014 0.12808986]\n",
      " [0.89447651 0.10552349]\n",
      " [0.82945353 0.17054647]\n",
      " [0.72856811 0.27143189]\n",
      " [0.9469282  0.0530718 ]\n",
      " [0.96074298 0.03925702]\n",
      " [0.90500199 0.09499801]\n",
      " [0.88599987 0.11400013]\n",
      " [0.84865641 0.15134359]\n",
      " [0.79086981 0.20913019]\n",
      " [0.67302982 0.32697018]\n",
      " [0.93390205 0.06609795]\n",
      " [0.65644893 0.34355107]\n",
      " [0.74382855 0.25617145]\n",
      " [0.94248408 0.05751592]\n",
      " [0.78365669 0.21634331]\n",
      " [0.90655658 0.09344342]\n",
      " [0.81578726 0.18421274]\n",
      " [0.89149735 0.10850265]\n",
      " [0.85791873 0.14208127]\n",
      " [0.67453865 0.32546135]\n",
      " [0.93130391 0.06869609]\n",
      " [0.89999982 0.10000018]]\n"
     ]
    }
   ],
   "source": [
    "probs = model2.predict_proba(X_test)\n",
    "print (probs)"
   ]
  },
  {
   "cell_type": "code",
   "execution_count": 38,
   "metadata": {
    "ExecuteTime": {
     "end_time": "2023-06-16T11:36:28.775925Z",
     "start_time": "2023-06-16T11:36:28.743851Z"
    }
   },
   "outputs": [
    {
     "name": "stdout",
     "output_type": "stream",
     "text": [
      "0.8435374149659864\n",
      "0.6502502887947632\n"
     ]
    }
   ],
   "source": [
    "from sklearn import metrics\n",
    "\n",
    "print (metrics.accuracy_score(y_test, predicted))\n",
    "print (metrics.roc_auc_score(y_test, probs[:, 1]))"
   ]
  },
  {
   "cell_type": "code",
   "execution_count": 39,
   "metadata": {
    "ExecuteTime": {
     "end_time": "2023-06-16T11:36:28.807675Z",
     "start_time": "2023-06-16T11:36:28.779086Z"
    }
   },
   "outputs": [
    {
     "name": "stdout",
     "output_type": "stream",
     "text": [
      "[[371   0]\n",
      " [ 69   1]]\n",
      "              precision    recall  f1-score   support\n",
      "\n",
      "         0.0       0.84      1.00      0.91       371\n",
      "         1.0       1.00      0.01      0.03        70\n",
      "\n",
      "    accuracy                           0.84       441\n",
      "   macro avg       0.92      0.51      0.47       441\n",
      "weighted avg       0.87      0.84      0.77       441\n",
      "\n"
     ]
    }
   ],
   "source": [
    "print (metrics.confusion_matrix(y_test, predicted))\n",
    "print (metrics.classification_report(y_test, predicted))"
   ]
  },
  {
   "cell_type": "code",
   "execution_count": 40,
   "metadata": {
    "ExecuteTime": {
     "end_time": "2023-06-16T11:36:28.855704Z",
     "start_time": "2023-06-16T11:36:28.810712Z"
    }
   },
   "outputs": [
    {
     "name": "stdout",
     "output_type": "stream",
     "text": [
      "      Intercept   Age  Department  DistanceFromHome  Education  \\\n",
      "338         1.0  30.0         2.0               5.0        3.0   \n",
      "363         1.0  33.0         2.0               5.0        3.0   \n",
      "759         1.0  45.0         3.0              24.0        4.0   \n",
      "793         1.0  28.0         1.0              15.0        2.0   \n",
      "581         1.0  30.0         1.0               1.0        3.0   \n",
      "...         ...   ...         ...               ...        ...   \n",
      "763         1.0  34.0         2.0              10.0        4.0   \n",
      "835         1.0  35.0         3.0               8.0        4.0   \n",
      "1216        1.0  43.0         2.0               2.0        3.0   \n",
      "559         1.0  38.0         1.0               2.0        5.0   \n",
      "684         1.0  40.0         2.0              10.0        4.0   \n",
      "\n",
      "      EducationField  YearsAtCompany  \n",
      "338              3.0            10.0  \n",
      "363              3.0             1.0  \n",
      "759              2.0             6.0  \n",
      "793              1.0             4.0  \n",
      "581              1.0             2.0  \n",
      "...              ...             ...  \n",
      "763              1.0             1.0  \n",
      "835              5.0             5.0  \n",
      "1216             2.0            10.0  \n",
      "559              2.0             1.0  \n",
      "684              3.0             1.0  \n",
      "\n",
      "[1029 rows x 7 columns]\n"
     ]
    }
   ],
   "source": [
    "print (X_train)"
   ]
  },
  {
   "cell_type": "code",
   "execution_count": 41,
   "metadata": {
    "ExecuteTime": {
     "end_time": "2023-06-16T11:36:28.888520Z",
     "start_time": "2023-06-16T11:36:28.860703Z"
    }
   },
   "outputs": [
    {
     "name": "stdout",
     "output_type": "stream",
     "text": [
      "[[6.25571965e-07 9.99999374e-01]]\n"
     ]
    },
    {
     "name": "stderr",
     "output_type": "stream",
     "text": [
      "C:\\Users\\Srikanth\\anaconda3\\lib\\site-packages\\sklearn\\base.py:450: UserWarning: X does not have valid feature names, but LogisticRegression was fitted with feature names\n",
      "  warnings.warn(\n"
     ]
    }
   ],
   "source": [
    "#add random values to KK according to the parameters mentioned above to check the proabily of attrition of the employee\n",
    "kk=[[1.0, 23.0, 1.0, 500.0, 3.0, 24.0, 1.0]]\n",
    "print(model.predict_proba(kk))"
   ]
  },
  {
   "cell_type": "code",
   "execution_count": null,
   "metadata": {},
   "outputs": [],
   "source": []
  },
  {
   "cell_type": "code",
   "execution_count": null,
   "metadata": {},
   "outputs": [],
   "source": []
  },
  {
   "cell_type": "code",
   "execution_count": null,
   "metadata": {},
   "outputs": [],
   "source": []
  },
  {
   "cell_type": "code",
   "execution_count": null,
   "metadata": {},
   "outputs": [],
   "source": []
  },
  {
   "cell_type": "code",
   "execution_count": null,
   "metadata": {},
   "outputs": [],
   "source": []
  }
 ],
 "metadata": {
  "kernelspec": {
   "display_name": "Python 3 (ipykernel)",
   "language": "python",
   "name": "python3"
  },
  "language_info": {
   "codemirror_mode": {
    "name": "ipython",
    "version": 3
   },
   "file_extension": ".py",
   "mimetype": "text/x-python",
   "name": "python",
   "nbconvert_exporter": "python",
   "pygments_lexer": "ipython3",
   "version": "3.9.13"
  }
 },
 "nbformat": 4,
 "nbformat_minor": 2
}
